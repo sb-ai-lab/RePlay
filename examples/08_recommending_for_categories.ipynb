{
 "cells": [
  {
   "cell_type": "code",
   "execution_count": 1,
   "metadata": {
    "ExecuteTime": {
     "end_time": "2020-02-10T16:01:45.639135Z",
     "start_time": "2020-02-10T16:01:45.612577Z"
    },
    "jupyter": {
     "outputs_hidden": false
    },
    "pycharm": {
     "is_executing": false
    }
   },
   "outputs": [],
   "source": [
    "%load_ext autoreload\n",
    "%autoreload 2\n",
    "%config Completer.use_jedi = False"
   ]
  },
  {
   "cell_type": "code",
   "execution_count": 2,
   "metadata": {},
   "outputs": [],
   "source": [
    "! pip install rs-datasets -q"
   ]
  },
  {
   "cell_type": "markdown",
   "metadata": {},
   "source": [
    "# The notebook shows an example of recommendation for product categories with CatPopRec model\n",
    "We will use movielens dataset and will consider genres as prodict categories. An item may belongs to several categories, but an interation is parametrized with one category. Assume the user select category at first and then select an item. CatPopRec calculates popularity of an item in categories and recommends the most popular items. \n",
    "\n",
    "Categories may be flat, but also may have structure of a tree. In this case we assume, that the category has only one parent and all items are mapped to only bottom-level (leaf) categories. CatPopRec allows to build recommendations not only for bottom level, but for any category, aggregating items' popularities in downstream categories.  \n",
    "1. Data loading and reindexing\n",
    "2. Categories preprocessing\n",
    "3. Assigning categories to interactions\n",
    "4. Recommending in case of flat categories structure\n",
    "6. Building categories tree\n",
    "4. Recommending in case of tree categories structure"
   ]
  },
  {
   "cell_type": "code",
   "execution_count": 3,
   "metadata": {},
   "outputs": [
    {
     "data": {
      "text/html": [
       "<style type='text/css'>\n",
       ".datatable table.frame { margin-bottom: 0; }\n",
       ".datatable table.frame thead { border-bottom: none; }\n",
       ".datatable table.frame tr.coltypes td {  color: #FFFFFF;  line-height: 6px;  padding: 0 0.5em;}\n",
       ".datatable .bool    { background: #DDDD99; }\n",
       ".datatable .object  { background: #565656; }\n",
       ".datatable .int     { background: #5D9E5D; }\n",
       ".datatable .float   { background: #4040CC; }\n",
       ".datatable .str     { background: #CC4040; }\n",
       ".datatable .time    { background: #40CC40; }\n",
       ".datatable .row_index {  background: var(--jp-border-color3);  border-right: 1px solid var(--jp-border-color0);  color: var(--jp-ui-font-color3);  font-size: 9px;}\n",
       ".datatable .frame tbody td { text-align: left; }\n",
       ".datatable .frame tr.coltypes .row_index {  background: var(--jp-border-color0);}\n",
       ".datatable th:nth-child(2) { padding-left: 12px; }\n",
       ".datatable .hellipsis {  color: var(--jp-cell-editor-border-color);}\n",
       ".datatable .vellipsis {  background: var(--jp-layout-color0);  color: var(--jp-cell-editor-border-color);}\n",
       ".datatable .na {  color: var(--jp-cell-editor-border-color);  font-size: 80%;}\n",
       ".datatable .sp {  opacity: 0.25;}\n",
       ".datatable .footer { font-size: 9px; }\n",
       ".datatable .frame_dimensions {  background: var(--jp-border-color3);  border-top: 1px solid var(--jp-border-color0);  color: var(--jp-ui-font-color3);  display: inline-block;  opacity: 0.6;  padding: 1px 10px 1px 5px;}\n",
       "</style>\n"
      ],
      "text/plain": [
       "<IPython.core.display.HTML object>"
      ]
     },
     "metadata": {},
     "output_type": "display_data"
    }
   ],
   "source": [
    "from pyspark.sql import Window\n",
    "from pyspark.sql.functions import split\n",
    "import pyspark.sql.functions as sf\n",
    "\n",
    "from replay.data import Dataset, FeatureSchema, FeatureInfo, FeatureHint, FeatureType\n",
    "from replay.preprocessing.label_encoder import LabelEncoder, LabelEncodingRule\n",
    "from replay.models import CatPopRec\n",
    "from replay.utils.session_handler import State\n",
    "from replay.splitters import TimeSplitter\n",
    "from replay.utils.spark_utils import get_log_info, convert2spark\n",
    "from rs_datasets import MovieLens"
   ]
  },
  {
   "cell_type": "code",
   "execution_count": 4,
   "metadata": {
    "ExecuteTime": {
     "end_time": "2020-02-10T15:59:09.227179Z",
     "start_time": "2020-02-10T15:59:06.427348Z"
    },
    "jupyter": {
     "outputs_hidden": false
    },
    "pycharm": {
     "is_executing": false
    }
   },
   "outputs": [
    {
     "name": "stderr",
     "output_type": "stream",
     "text": [
      "23/11/08 22:30:12 WARN Utils: Your hostname, ecs-eemalov-large resolves to a loopback address: 127.0.1.1; using 10.11.10.44 instead (on interface eth0)\n",
      "23/11/08 22:30:12 WARN Utils: Set SPARK_LOCAL_IP if you need to bind to another address\n",
      "WARNING: An illegal reflective access operation has occurred\n",
      "WARNING: Illegal reflective access by org.apache.spark.unsafe.Platform (file:/root/anaconda3/envs/replay/lib/python3.9/site-packages/pyspark/jars/spark-unsafe_2.12-3.2.4.jar) to constructor java.nio.DirectByteBuffer(long,int)\n",
      "WARNING: Please consider reporting this to the maintainers of org.apache.spark.unsafe.Platform\n",
      "WARNING: Use --illegal-access=warn to enable warnings of further illegal reflective access operations\n",
      "WARNING: All illegal access operations will be denied in a future release\n",
      "Using Spark's default log4j profile: org/apache/spark/log4j-defaults.properties\n",
      "Setting default log level to \"WARN\".\n",
      "To adjust logging level use sc.setLogLevel(newLevel). For SparkR, use setLogLevel(newLevel).\n",
      "23/11/08 22:30:13 WARN NativeCodeLoader: Unable to load native-hadoop library for your platform... using builtin-java classes where applicable\n",
      "23/11/08 22:30:13 WARN SparkConf: Note that spark.local.dir will be overridden by the value set by the cluster manager (via SPARK_LOCAL_DIRS in mesos/standalone/kubernetes and LOCAL_DIRS in YARN).\n",
      "23/11/08 22:30:14 WARN Utils: Service 'SparkUI' could not bind on port 4040. Attempting port 4041.\n",
      "23/11/08 22:30:14 WARN Utils: Service 'SparkUI' could not bind on port 4041. Attempting port 4042.\n",
      "23/11/08 22:30:14 WARN Utils: Service 'SparkUI' could not bind on port 4042. Attempting port 4043.\n"
     ]
    },
    {
     "data": {
      "text/html": [
       "\n",
       "            <div>\n",
       "                <p><b>SparkSession - hive</b></p>\n",
       "                \n",
       "        <div>\n",
       "            <p><b>SparkContext</b></p>\n",
       "\n",
       "            <p><a href=\"http://localhost:4043\">Spark UI</a></p>\n",
       "\n",
       "            <dl>\n",
       "              <dt>Version</dt>\n",
       "                <dd><code>v3.2.4</code></dd>\n",
       "              <dt>Master</dt>\n",
       "                <dd><code>local[*]</code></dd>\n",
       "              <dt>AppName</dt>\n",
       "                <dd><code>pyspark-shell</code></dd>\n",
       "            </dl>\n",
       "        </div>\n",
       "        \n",
       "            </div>\n",
       "        "
      ],
      "text/plain": [
       "<pyspark.sql.session.SparkSession at 0x7f0774ebcca0>"
      ]
     },
     "execution_count": 4,
     "metadata": {},
     "output_type": "execute_result"
    }
   ],
   "source": [
    "spark = State().session\n",
    "spark"
   ]
  },
  {
   "cell_type": "code",
   "execution_count": 5,
   "metadata": {},
   "outputs": [],
   "source": [
    "spark.sparkContext.setLogLevel('ERROR')"
   ]
  },
  {
   "cell_type": "markdown",
   "metadata": {},
   "source": [
    "# 1. Data loading"
   ]
  },
  {
   "cell_type": "markdown",
   "metadata": {},
   "source": [
    "We will use MovieLens 10m dataset from rs_datasets package, which contains a list of recommendations datasets."
   ]
  },
  {
   "cell_type": "code",
   "execution_count": 6,
   "metadata": {},
   "outputs": [
    {
     "name": "stdout",
     "output_type": "stream",
     "text": [
      "ratings\n"
     ]
    },
    {
     "data": {
      "text/html": [
       "<div>\n",
       "<style scoped>\n",
       "    .dataframe tbody tr th:only-of-type {\n",
       "        vertical-align: middle;\n",
       "    }\n",
       "\n",
       "    .dataframe tbody tr th {\n",
       "        vertical-align: top;\n",
       "    }\n",
       "\n",
       "    .dataframe thead th {\n",
       "        text-align: right;\n",
       "    }\n",
       "</style>\n",
       "<table border=\"1\" class=\"dataframe\">\n",
       "  <thead>\n",
       "    <tr style=\"text-align: right;\">\n",
       "      <th></th>\n",
       "      <th>user_id</th>\n",
       "      <th>item_id</th>\n",
       "      <th>rating</th>\n",
       "      <th>timestamp</th>\n",
       "    </tr>\n",
       "  </thead>\n",
       "  <tbody>\n",
       "    <tr>\n",
       "      <th>0</th>\n",
       "      <td>1</td>\n",
       "      <td>122</td>\n",
       "      <td>5.0</td>\n",
       "      <td>838985046</td>\n",
       "    </tr>\n",
       "    <tr>\n",
       "      <th>1</th>\n",
       "      <td>1</td>\n",
       "      <td>185</td>\n",
       "      <td>5.0</td>\n",
       "      <td>838983525</td>\n",
       "    </tr>\n",
       "    <tr>\n",
       "      <th>2</th>\n",
       "      <td>1</td>\n",
       "      <td>231</td>\n",
       "      <td>5.0</td>\n",
       "      <td>838983392</td>\n",
       "    </tr>\n",
       "  </tbody>\n",
       "</table>\n",
       "</div>"
      ],
      "text/plain": [
       "   user_id  item_id  rating  timestamp\n",
       "0        1      122     5.0  838985046\n",
       "1        1      185     5.0  838983525\n",
       "2        1      231     5.0  838983392"
      ]
     },
     "metadata": {},
     "output_type": "display_data"
    },
    {
     "name": "stdout",
     "output_type": "stream",
     "text": [
      "\n",
      "items\n"
     ]
    },
    {
     "data": {
      "text/html": [
       "<div>\n",
       "<style scoped>\n",
       "    .dataframe tbody tr th:only-of-type {\n",
       "        vertical-align: middle;\n",
       "    }\n",
       "\n",
       "    .dataframe tbody tr th {\n",
       "        vertical-align: top;\n",
       "    }\n",
       "\n",
       "    .dataframe thead th {\n",
       "        text-align: right;\n",
       "    }\n",
       "</style>\n",
       "<table border=\"1\" class=\"dataframe\">\n",
       "  <thead>\n",
       "    <tr style=\"text-align: right;\">\n",
       "      <th></th>\n",
       "      <th>item_id</th>\n",
       "      <th>title</th>\n",
       "      <th>genres</th>\n",
       "    </tr>\n",
       "  </thead>\n",
       "  <tbody>\n",
       "    <tr>\n",
       "      <th>0</th>\n",
       "      <td>1</td>\n",
       "      <td>Toy Story (1995)</td>\n",
       "      <td>Adventure|Animation|Children|Comedy|Fantasy</td>\n",
       "    </tr>\n",
       "    <tr>\n",
       "      <th>1</th>\n",
       "      <td>2</td>\n",
       "      <td>Jumanji (1995)</td>\n",
       "      <td>Adventure|Children|Fantasy</td>\n",
       "    </tr>\n",
       "    <tr>\n",
       "      <th>2</th>\n",
       "      <td>3</td>\n",
       "      <td>Grumpier Old Men (1995)</td>\n",
       "      <td>Comedy|Romance</td>\n",
       "    </tr>\n",
       "  </tbody>\n",
       "</table>\n",
       "</div>"
      ],
      "text/plain": [
       "   item_id                    title  \\\n",
       "0        1         Toy Story (1995)   \n",
       "1        2           Jumanji (1995)   \n",
       "2        3  Grumpier Old Men (1995)   \n",
       "\n",
       "                                        genres  \n",
       "0  Adventure|Animation|Children|Comedy|Fantasy  \n",
       "1                   Adventure|Children|Fantasy  \n",
       "2                               Comedy|Romance  "
      ]
     },
     "metadata": {},
     "output_type": "display_data"
    },
    {
     "name": "stdout",
     "output_type": "stream",
     "text": [
      "\n",
      "tags\n"
     ]
    },
    {
     "data": {
      "text/html": [
       "<div>\n",
       "<style scoped>\n",
       "    .dataframe tbody tr th:only-of-type {\n",
       "        vertical-align: middle;\n",
       "    }\n",
       "\n",
       "    .dataframe tbody tr th {\n",
       "        vertical-align: top;\n",
       "    }\n",
       "\n",
       "    .dataframe thead th {\n",
       "        text-align: right;\n",
       "    }\n",
       "</style>\n",
       "<table border=\"1\" class=\"dataframe\">\n",
       "  <thead>\n",
       "    <tr style=\"text-align: right;\">\n",
       "      <th></th>\n",
       "      <th>user_id</th>\n",
       "      <th>item_id</th>\n",
       "      <th>tag</th>\n",
       "      <th>timestamp</th>\n",
       "    </tr>\n",
       "  </thead>\n",
       "  <tbody>\n",
       "    <tr>\n",
       "      <th>0</th>\n",
       "      <td>15</td>\n",
       "      <td>4973</td>\n",
       "      <td>excellent!</td>\n",
       "      <td>1215184630</td>\n",
       "    </tr>\n",
       "    <tr>\n",
       "      <th>1</th>\n",
       "      <td>20</td>\n",
       "      <td>1747</td>\n",
       "      <td>politics</td>\n",
       "      <td>1188263867</td>\n",
       "    </tr>\n",
       "    <tr>\n",
       "      <th>2</th>\n",
       "      <td>20</td>\n",
       "      <td>1747</td>\n",
       "      <td>satire</td>\n",
       "      <td>1188263867</td>\n",
       "    </tr>\n",
       "  </tbody>\n",
       "</table>\n",
       "</div>"
      ],
      "text/plain": [
       "   user_id  item_id         tag   timestamp\n",
       "0       15     4973  excellent!  1215184630\n",
       "1       20     1747    politics  1188263867\n",
       "2       20     1747      satire  1188263867"
      ]
     },
     "metadata": {},
     "output_type": "display_data"
    },
    {
     "name": "stdout",
     "output_type": "stream",
     "text": [
      "\n"
     ]
    }
   ],
   "source": [
    "data = MovieLens(\"10m\")\n",
    "data.info()"
   ]
  },
  {
   "cell_type": "markdown",
   "metadata": {},
   "source": [
    "### 1.1 Convert interaction log to RePlay format"
   ]
  },
  {
   "cell_type": "code",
   "execution_count": 7,
   "metadata": {},
   "outputs": [
    {
     "name": "stdout",
     "output_type": "stream",
     "text": [
      "CPU times: user 78 ms, sys: 129 ms, total: 207 ms\n",
      "Wall time: 1.64 s\n"
     ]
    }
   ],
   "source": [
    "%%time\n",
    "interactions = convert2spark(data.ratings)\n",
    "item_features = convert2spark(data.items)"
   ]
  },
  {
   "cell_type": "code",
   "execution_count": 8,
   "metadata": {},
   "outputs": [
    {
     "name": "stdout",
     "output_type": "stream",
     "text": [
      "+-------+-------+------+---------+\n",
      "|user_id|item_id|rating|timestamp|\n",
      "+-------+-------+------+---------+\n",
      "|      1|    122|   5.0|838985046|\n",
      "|      1|    185|   5.0|838983525|\n",
      "|      1|    231|   5.0|838983392|\n",
      "|      1|    292|   5.0|838983421|\n",
      "|      1|    316|   5.0|838983392|\n",
      "+-------+-------+------+---------+\n",
      "only showing top 5 rows\n",
      "\n"
     ]
    }
   ],
   "source": [
    "interactions.show(5)"
   ]
  },
  {
   "cell_type": "code",
   "execution_count": 9,
   "metadata": {},
   "outputs": [
    {
     "name": "stdout",
     "output_type": "stream",
     "text": [
      "+-------+----------------+--------------------+\n",
      "|item_id|           title|              genres|\n",
      "+-------+----------------+--------------------+\n",
      "|      1|Toy Story (1995)|Adventure|Animati...|\n",
      "|      2|  Jumanji (1995)|Adventure|Childre...|\n",
      "+-------+----------------+--------------------+\n",
      "only showing top 2 rows\n",
      "\n"
     ]
    }
   ],
   "source": [
    "item_features.show(2)"
   ]
  },
  {
   "cell_type": "markdown",
   "metadata": {},
   "source": [
    "<a id='indexing'></a>\n",
    "### 1.2. Indexing"
   ]
  },
  {
   "cell_type": "markdown",
   "metadata": {},
   "source": [
    "Convert given users' and items' identifiers (\\_id) to integers starting at zero without gaps (\\_idx) with Indexer class."
   ]
  },
  {
   "cell_type": "code",
   "execution_count": 10,
   "metadata": {},
   "outputs": [],
   "source": [
    "user_encoder = LabelEncoder([LabelEncodingRule(\"user_id\")])\n",
    "item_encoder = LabelEncoder([LabelEncodingRule(\"item_id\")])"
   ]
  },
  {
   "cell_type": "code",
   "execution_count": 11,
   "metadata": {},
   "outputs": [
    {
     "name": "stderr",
     "output_type": "stream",
     "text": [
      "                                                                                \r"
     ]
    },
    {
     "name": "stdout",
     "output_type": "stream",
     "text": [
      "CPU times: user 399 ms, sys: 25.8 ms, total: 425 ms\n",
      "Wall time: 5 s\n"
     ]
    },
    {
     "data": {
      "text/plain": [
       "<replay.preprocessing.label_encoder.LabelEncoder at 0x7f07764fbe20>"
      ]
     },
     "execution_count": 11,
     "metadata": {},
     "output_type": "execute_result"
    }
   ],
   "source": [
    "%%time\n",
    "user_encoder.fit(interactions)\n",
    "item_encoder.fit(interactions.select('item_id').union(item_features.select('item_id')))"
   ]
  },
  {
   "cell_type": "code",
   "execution_count": 12,
   "metadata": {},
   "outputs": [
    {
     "name": "stderr",
     "output_type": "stream",
     "text": [
      "                                                                                \r"
     ]
    },
    {
     "name": "stdout",
     "output_type": "stream",
     "text": [
      "+------+---------+-------+-------+\n",
      "|rating|timestamp|user_id|item_id|\n",
      "+------+---------+-------+-------+\n",
      "|   5.0|838985046|  27764|   5178|\n",
      "|   5.0|838983525|  27764|   4962|\n",
      "+------+---------+-------+-------+\n",
      "only showing top 2 rows\n",
      "\n",
      "CPU times: user 888 ms, sys: 6.62 ms, total: 894 ms\n",
      "Wall time: 4.88 s\n"
     ]
    }
   ],
   "source": [
    "%%time\n",
    "log_replay = user_encoder.transform(df=interactions)\n",
    "log_replay = item_encoder.transform(df=log_replay)\n",
    "log_replay.show(2)"
   ]
  },
  {
   "cell_type": "code",
   "execution_count": 13,
   "metadata": {},
   "outputs": [
    {
     "name": "stdout",
     "output_type": "stream",
     "text": [
      "+--------------------+--------------------+-------+\n",
      "|               title|              genres|item_id|\n",
      "+--------------------+--------------------+-------+\n",
      "|Grumpier Old Men ...|      Comedy|Romance|    692|\n",
      "|      Jumanji (1995)|Adventure|Childre...|   1349|\n",
      "+--------------------+--------------------+-------+\n",
      "only showing top 2 rows\n",
      "\n",
      "CPU times: user 118 ms, sys: 3.13 ms, total: 121 ms\n",
      "Wall time: 548 ms\n"
     ]
    }
   ],
   "source": [
    "%%time\n",
    "item_features_replay = item_encoder.transform(df=item_features)\n",
    "item_features_replay.show(2)"
   ]
  },
  {
   "cell_type": "markdown",
   "metadata": {},
   "source": [
    "### 1.3. Data split"
   ]
  },
  {
   "cell_type": "code",
   "execution_count": 14,
   "metadata": {
    "ExecuteTime": {
     "end_time": "2020-02-10T15:59:50.986401Z",
     "start_time": "2020-02-10T15:59:42.042998Z"
    },
    "jupyter": {
     "outputs_hidden": false
    }
   },
   "outputs": [
    {
     "name": "stderr",
     "output_type": "stream",
     "text": [
      "                                                                                \r"
     ]
    },
    {
     "name": "stdout",
     "output_type": "stream",
     "text": [
      "train info:\n",
      " total lines: 8000043, total users: 59522, total items: 8989\n"
     ]
    },
    {
     "name": "stderr",
     "output_type": "stream",
     "text": [
      "                                                                                \r"
     ]
    },
    {
     "name": "stdout",
     "output_type": "stream",
     "text": [
      "test info:\n",
      " total lines: 249418, total users: 3196, total items: 8180\n"
     ]
    }
   ],
   "source": [
    "# train/test split \n",
    "train_spl = TimeSplitter(\n",
    "    time_threshold=0.2,\n",
    "    drop_cold_items=True,\n",
    "    drop_cold_users=True,\n",
    "    query_column=\"user_id\",\n",
    "\n",
    ")\n",
    "train, test = train_spl.split(log_replay)\n",
    "print('train info:\\n', get_log_info(train, user_col='user_id', item_col='item_id'))\n",
    "print('test info:\\n', get_log_info(test, user_col='user_id', item_col='item_id'))"
   ]
  },
  {
   "cell_type": "code",
   "execution_count": 15,
   "metadata": {},
   "outputs": [
    {
     "data": {
      "text/plain": [
       "False"
      ]
     },
     "execution_count": 15,
     "metadata": {},
     "output_type": "execute_result"
    }
   ],
   "source": [
    "train.is_cached"
   ]
  },
  {
   "cell_type": "markdown",
   "metadata": {},
   "source": [
    "# 2. Categories preprocessing"
   ]
  },
  {
   "cell_type": "markdown",
   "metadata": {},
   "source": [
    "We will treat film genre as an item categories. "
   ]
  },
  {
   "cell_type": "code",
   "execution_count": 16,
   "metadata": {},
   "outputs": [],
   "source": [
    "genres = (\n",
    "    item_features_replay\n",
    "    .select(\n",
    "        \"item_id\",\n",
    "        split(\"genres\", \"\\|\").alias(\"genres\")\n",
    "    )\n",
    ")"
   ]
  },
  {
   "cell_type": "code",
   "execution_count": 17,
   "metadata": {},
   "outputs": [
    {
     "name": "stdout",
     "output_type": "stream",
     "text": [
      "+-------+--------------------+\n",
      "|item_id|              genres|\n",
      "+-------+--------------------+\n",
      "|    692|   [Comedy, Romance]|\n",
      "|   1349|[Adventure, Child...|\n",
      "|   6814|[Comedy, Drama, R...|\n",
      "|   5659|[Action, Crime, T...|\n",
      "|   4274|[Adventure, Anima...|\n",
      "+-------+--------------------+\n",
      "only showing top 5 rows\n",
      "\n"
     ]
    }
   ],
   "source": [
    "genres.show(5)"
   ]
  },
  {
   "cell_type": "code",
   "execution_count": 18,
   "metadata": {},
   "outputs": [
    {
     "data": {
      "text/plain": [
       "<AxesSubplot:>"
      ]
     },
     "execution_count": 18,
     "metadata": {},
     "output_type": "execute_result"
    },
    {
     "data": {
      "image/png": "[encoded data removed]",
      "text/plain": [
       "<Figure size 640x480 with 1 Axes>"
      ]
     },
     "metadata": {},
     "output_type": "display_data"
    }
   ],
   "source": [
    "num_genres = genres.select(\"item_id\", sf.size(\"genres\").alias(\"num_genres\"))\n",
    "num_genres.toPandas()[\"num_genres\"].hist(bins=10)"
   ]
  },
  {
   "cell_type": "markdown",
   "metadata": {},
   "source": [
    "Some films have more than one genre. To model the real life we will randomly sample one category (genre) the item is chosen from for each interaction."
   ]
  },
  {
   "cell_type": "markdown",
   "metadata": {},
   "source": [
    "Will asign a number of each genre for each item and sample random integer from interval [0, num_genres) to get a category of an interaction."
   ]
  },
  {
   "cell_type": "code",
   "execution_count": 19,
   "metadata": {},
   "outputs": [
    {
     "name": "stdout",
     "output_type": "stream",
     "text": [
      "+-------+-------+------------+\n",
      "|item_id|  genre|genre_number|\n",
      "+-------+-------+------------+\n",
      "|      0|  Drama|           0|\n",
      "|      0|Romance|           1|\n",
      "|      1|  Drama|           0|\n",
      "|      1|Mystery|           1|\n",
      "|      1|Romance|           2|\n",
      "+-------+-------+------------+\n",
      "only showing top 5 rows\n",
      "\n"
     ]
    }
   ],
   "source": [
    "genres = (genres\n",
    "          .select(\"item_id\", sf.explode(\"genres\").alias(\"genre\"))\n",
    "          .withColumn(\"genre_number\", sf.row_number().over(Window.orderBy(\"genre\").partitionBy(\"item_id\"))  - sf.lit(1)\n",
    "                     )\n",
    "         )\n",
    "genres.show(5)"
   ]
  },
  {
   "cell_type": "markdown",
   "metadata": {},
   "source": [
    "Some films has several genres. Assume that each interaction with film is associated with a genre, e.g. the user select genre at first and then select film.\n",
    "Lets build the interactions dataset based on this assumption. "
   ]
  },
  {
   "cell_type": "markdown",
   "metadata": {},
   "source": [
    "# 3. Assigning categories to interactions"
   ]
  },
  {
   "cell_type": "code",
   "execution_count": 20,
   "metadata": {},
   "outputs": [
    {
     "name": "stderr",
     "output_type": "stream",
     "text": [
      "                                                                                \r"
     ]
    },
    {
     "data": {
      "text/plain": [
       "8000043"
      ]
     },
     "execution_count": 20,
     "metadata": {},
     "output_type": "execute_result"
    }
   ],
   "source": [
    "train_genre = train.join(num_genres, on=\"item_id\")\n",
    "train_genre = train_genre.withColumn(\"genre_number\", sf.floor(sf.rand() * sf.col(\"num_genres\")).alias(\"category\")).select(\"item_id\", \"user_id\", \"genre_number\")\n",
    "train_genre = train_genre.join(genres.withColumnRenamed(\"genre\", \"category\"), on=[\"item_id\", \"genre_number\"]).drop(\"genre_number\")\n",
    "train_genre.cache()\n",
    "train_genre.count()"
   ]
  },
  {
   "cell_type": "code",
   "execution_count": 21,
   "metadata": {},
   "outputs": [
    {
     "name": "stdout",
     "output_type": "stream",
     "text": [
      "+-------+--------+---------------+\n",
      "|item_id|category|count(category)|\n",
      "+-------+--------+---------------+\n",
      "|      0|   Drama|           3424|\n",
      "|      0| Romance|           3456|\n",
      "|      1| Romance|           1981|\n",
      "|      1|   Drama|           2004|\n",
      "|      1| Mystery|           1880|\n",
      "+-------+--------+---------------+\n",
      "only showing top 5 rows\n",
      "\n"
     ]
    }
   ],
   "source": [
    "train_genre.groupBy(\"item_id\", \"category\").agg(sf.count(\"category\")).orderBy(\"item_id\").show(5)"
   ]
  },
  {
   "cell_type": "code",
   "execution_count": 22,
   "metadata": {},
   "outputs": [
    {
     "name": "stdout",
     "output_type": "stream",
     "text": [
      "+-------+-------+---------+\n",
      "|item_id|user_id| category|\n",
      "+-------+-------+---------+\n",
      "|    243|  28939|   Action|\n",
      "|   2493|   2268| Thriller|\n",
      "|   2946|  37421|Adventure|\n",
      "|   3636|  51779| Thriller|\n",
      "|   4060|  57959|   Comedy|\n",
      "+-------+-------+---------+\n",
      "only showing top 5 rows\n",
      "\n"
     ]
    }
   ],
   "source": [
    "train_genre.sample(0.0001).show(5)"
   ]
  },
  {
   "cell_type": "markdown",
   "metadata": {},
   "source": [
    "## Prepare Dataset"
   ]
  },
  {
   "cell_type": "code",
   "execution_count": 23,
   "metadata": {},
   "outputs": [],
   "source": [
    "feature_schema = FeatureSchema(\n",
    "    [\n",
    "        FeatureInfo(\n",
    "            column=\"user_id\",\n",
    "            feature_type=FeatureType.CATEGORICAL,\n",
    "            feature_hint=FeatureHint.QUERY_ID,\n",
    "        ),\n",
    "        FeatureInfo(\n",
    "            column=\"item_id\",\n",
    "            feature_type=FeatureType.CATEGORICAL,\n",
    "            feature_hint=FeatureHint.ITEM_ID,\n",
    "        ),\n",
    "        FeatureInfo(\n",
    "            column=\"category\",\n",
    "            feature_type=FeatureType.CATEGORICAL,\n",
    "        ),\n",
    "    ]\n",
    ")\n",
    "\n",
    "train_dataset = Dataset(\n",
    "    feature_schema=feature_schema,\n",
    "    interactions=train_genre,\n",
    ")"
   ]
  },
  {
   "cell_type": "markdown",
   "metadata": {},
   "source": [
    "# 4. Recommending in case of flat categories structure"
   ]
  },
  {
   "cell_type": "markdown",
   "metadata": {},
   "source": [
    "## Building category structure"
   ]
  },
  {
   "cell_type": "code",
   "execution_count": 24,
   "metadata": {},
   "outputs": [
    {
     "name": "stdout",
     "output_type": "stream",
     "text": [
      "+------------------+----------+\n",
      "|          category|parent_cat|\n",
      "+------------------+----------+\n",
      "|       Documentary|      null|\n",
      "|           Fantasy|      null|\n",
      "|              IMAX|      null|\n",
      "|         Adventure|      null|\n",
      "|               War|      null|\n",
      "|         Animation|      null|\n",
      "|            Comedy|      null|\n",
      "|          Thriller|      null|\n",
      "|         Film-Noir|      null|\n",
      "|             Crime|      null|\n",
      "|            Sci-Fi|      null|\n",
      "|           Musical|      null|\n",
      "|           Mystery|      null|\n",
      "|             Drama|      null|\n",
      "|            Horror|      null|\n",
      "|           Western|      null|\n",
      "|           Romance|      null|\n",
      "|          Children|      null|\n",
      "|            Action|      null|\n",
      "|(no genres listed)|      null|\n",
      "+------------------+----------+\n",
      "\n"
     ]
    }
   ],
   "source": [
    "flat_cats = genres.select(\"genre\").distinct().withColumnRenamed(\"genre\", \"category\").withColumn(\"parent_cat\", sf.lit(None)).cache()\n",
    "flat_cats.show()"
   ]
  },
  {
   "cell_type": "markdown",
   "metadata": {},
   "source": [
    "## Model training"
   ]
  },
  {
   "cell_type": "code",
   "execution_count": 25,
   "metadata": {},
   "outputs": [],
   "source": [
    "model = CatPopRec(flat_cats)"
   ]
  },
  {
   "cell_type": "code",
   "execution_count": 26,
   "metadata": {},
   "outputs": [
    {
     "name": "stdout",
     "output_type": "stream",
     "text": [
      "CPU times: user 9.36 ms, sys: 520 µs, total: 9.88 ms\n",
      "Wall time: 505 ms\n"
     ]
    }
   ],
   "source": [
    "%%time\n",
    "model.fit(train_dataset)"
   ]
  },
  {
   "cell_type": "markdown",
   "metadata": {},
   "source": [
    "The model stores number of interactions with each item in each leaf category."
   ]
  },
  {
   "cell_type": "code",
   "execution_count": 27,
   "metadata": {},
   "outputs": [
    {
     "name": "stdout",
     "output_type": "stream",
     "text": [
      "+------------------+-------+---------+\n",
      "|          category|item_id|relevance|\n",
      "+------------------+-------+---------+\n",
      "|(no genres listed)|   7621|        2|\n",
      "|            Action|   9399|    12314|\n",
      "|            Action|   9621|     8602|\n",
      "|            Action|   9815|     8005|\n",
      "|            Action|   1124|     7979|\n",
      "+------------------+-------+---------+\n",
      "only showing top 5 rows\n",
      "\n"
     ]
    }
   ],
   "source": [
    "model.cat_item_popularity.orderBy(sf.col(\"category\"), sf.col(\"relevance\").desc()).show(5)"
   ]
  },
  {
   "cell_type": "markdown",
   "metadata": {},
   "source": [
    "## Generating recommendations"
   ]
  },
  {
   "cell_type": "code",
   "execution_count": 28,
   "metadata": {},
   "outputs": [
    {
     "name": "stdout",
     "output_type": "stream",
     "text": [
      "+--------+-------+---------+----------------------------------------+-----------------------+\n",
      "|category|item_id|relevance|substring(title, 0, 40)                 |genres                 |\n",
      "+--------+-------+---------+----------------------------------------+-----------------------+\n",
      "|Action  |9399   |0.0168   |Terminator 2: Judgment Day (1991)       |Action|Sci-Fi          |\n",
      "|Action  |9621   |0.0117   |Raiders of the Lost Ark (Indiana Jones a|Action|Adventure       |\n",
      "|Action  |9815   |0.0109   |Braveheart (1995)                       |Action|Drama|War       |\n",
      "|Action  |1124   |0.0109   |Star Wars: Episode IV - A New Hope (a.k.|Action|Adventure|Sci-Fi|\n",
      "|Action  |4964   |0.0093   |Star Wars: Episode VI - Return of the Je|Action|Adventure|Sci-Fi|\n",
      "+--------+-------+---------+----------------------------------------+-----------------------+\n",
      "\n",
      "CPU times: user 36.7 ms, sys: 20.4 ms, total: 57 ms\n",
      "Wall time: 2.77 s\n"
     ]
    }
   ],
   "source": [
    "%%time\n",
    "pred = model.predict([\"Action\"], k=5)\n",
    "(pred\n",
    " .join(item_features_replay, on=\"item_id\")\n",
    " .orderBy(sf.col(\"relevance\").desc())\n",
    " .select(\"category\", \"item_id\", sf.round(\"relevance\", 4).alias(\"relevance\"), sf.substring(\"title\", 0, 40), \"genres\")\n",
    ").show(5, truncate=False)"
   ]
  },
  {
   "cell_type": "markdown",
   "metadata": {},
   "source": [
    "# 5. Recommending in case of tree categories structure"
   ]
  },
  {
   "cell_type": "markdown",
   "metadata": {},
   "source": [
    "## Building category structure"
   ]
  },
  {
   "cell_type": "markdown",
   "metadata": {},
   "source": [
    "Let's create three parent categories and assing a parent for each genre."
   ]
  },
  {
   "cell_type": "code",
   "execution_count": 29,
   "metadata": {},
   "outputs": [],
   "source": [
    "parent_cats = spark.createDataFrame([(\"Dark\", None), (\"Bright\", None), (\"Neutral\", None)], schema=\"category string, parent_cat string\")"
   ]
  },
  {
   "cell_type": "code",
   "execution_count": 30,
   "metadata": {},
   "outputs": [
    {
     "name": "stdout",
     "output_type": "stream",
     "text": [
      "+--------+----------+\n",
      "|category|parent_cat|\n",
      "+--------+----------+\n",
      "|    Dark|      null|\n",
      "|  Bright|      null|\n",
      "| Neutral|      null|\n",
      "+--------+----------+\n",
      "\n"
     ]
    }
   ],
   "source": [
    "parent_cats.show()"
   ]
  },
  {
   "cell_type": "code",
   "execution_count": 31,
   "metadata": {},
   "outputs": [
    {
     "name": "stdout",
     "output_type": "stream",
     "text": [
      "+------------------+----------+\n",
      "|          category|parent_cat|\n",
      "+------------------+----------+\n",
      "|       Documentary|   Neutral|\n",
      "|           Fantasy|   Neutral|\n",
      "|              IMAX|   Neutral|\n",
      "|         Adventure|   Neutral|\n",
      "|               War|      Dark|\n",
      "|         Animation|   Neutral|\n",
      "|            Comedy|    Bright|\n",
      "|          Thriller|      Dark|\n",
      "|         Film-Noir|      Dark|\n",
      "|             Crime|   Neutral|\n",
      "|            Sci-Fi|   Neutral|\n",
      "|           Musical|   Neutral|\n",
      "|           Mystery|   Neutral|\n",
      "|             Drama|      Dark|\n",
      "|            Horror|      Dark|\n",
      "|           Western|   Neutral|\n",
      "|           Romance|    Bright|\n",
      "|          Children|   Neutral|\n",
      "|            Action|   Neutral|\n",
      "|(no genres listed)|   Neutral|\n",
      "+------------------+----------+\n",
      "only showing top 20 rows\n",
      "\n"
     ]
    }
   ],
   "source": [
    "cat_tree = (flat_cats\n",
    "            .withColumn(\"parent_cat\", \n",
    "                        sf.when(sf.col(\"category\").isin([\"Romance\", \"Comedy\"]), \"Bright\")\n",
    "                        .otherwise(\n",
    "                            sf.when(sf.col(\"category\").isin([\"Drama\", \"Horror\", \"War\", \"Thriller\", \"Film-Noir\"]), \"Dark\")\n",
    "                            .otherwise(\"Neutral\"))\n",
    "                       )\n",
    "           .unionByName(parent_cats)\n",
    "           )\n",
    "cat_tree.show()"
   ]
  },
  {
   "cell_type": "markdown",
   "metadata": {},
   "source": [
    "## Model training"
   ]
  },
  {
   "cell_type": "code",
   "execution_count": 32,
   "metadata": {},
   "outputs": [],
   "source": [
    "model = CatPopRec(cat_tree)"
   ]
  },
  {
   "cell_type": "code",
   "execution_count": 33,
   "metadata": {},
   "outputs": [
    {
     "name": "stdout",
     "output_type": "stream",
     "text": [
      "CPU times: user 3.34 ms, sys: 1.74 ms, total: 5.08 ms\n",
      "Wall time: 85.6 ms\n"
     ]
    }
   ],
   "source": [
    "%%time\n",
    "model.fit(train_dataset)"
   ]
  },
  {
   "cell_type": "markdown",
   "metadata": {},
   "source": [
    "The model stores number of interactions with each item in each leaf category."
   ]
  },
  {
   "cell_type": "code",
   "execution_count": 34,
   "metadata": {},
   "outputs": [
    {
     "name": "stdout",
     "output_type": "stream",
     "text": [
      "+------------------+-------+---------+\n",
      "|          category|item_id|relevance|\n",
      "+------------------+-------+---------+\n",
      "|(no genres listed)|   7621|        2|\n",
      "|            Action|   9399|    12314|\n",
      "|            Action|   9621|     8602|\n",
      "|            Action|   9815|     8005|\n",
      "|            Action|   1124|     7979|\n",
      "+------------------+-------+---------+\n",
      "only showing top 5 rows\n",
      "\n"
     ]
    }
   ],
   "source": [
    "model.cat_item_popularity.orderBy(sf.col(\"category\"), sf.col(\"relevance\").desc()).show(5)"
   ]
  },
  {
   "cell_type": "markdown",
   "metadata": {},
   "source": [
    "## Generating recommendations"
   ]
  },
  {
   "cell_type": "code",
   "execution_count": 35,
   "metadata": {},
   "outputs": [
    {
     "data": {
      "text/plain": [
       "DataFrame[category: string, item_id: bigint, relevance: double]"
      ]
     },
     "execution_count": 35,
     "metadata": {},
     "output_type": "execute_result"
    }
   ],
   "source": [
    "pred.unpersist()"
   ]
  },
  {
   "cell_type": "code",
   "execution_count": 36,
   "metadata": {},
   "outputs": [
    {
     "name": "stdout",
     "output_type": "stream",
     "text": [
      "+--------+-------+--------------------+--------------------------------------+------------------------+\n",
      "|category|item_id|relevance           |title                                 |genres                  |\n",
      "+--------+-------+--------------------+--------------------------------------+------------------------+\n",
      "|Bright  |2021   |0.007996300880202234|Ace Ventura: Pet Detective (1994)     |Comedy                  |\n",
      "|Bright  |3825   |0.007493301805905117|Pretty Woman (1990)                   |Comedy|Romance          |\n",
      "|Bright  |241    |0.006798332442701945|Four Weddings and a Funeral (1994)    |Comedy|Romance          |\n",
      "|Bright  |3822   |0.006763260947613339|Dumb & Dumber (1994)                  |Comedy                  |\n",
      "|Bright  |661    |0.006537603564740596|Forrest Gump (1994)                   |Comedy|Drama|Romance|War|\n",
      "|Comedy  |2021   |0.01093788169438695 |Ace Ventura: Pet Detective (1994)     |Comedy                  |\n",
      "|Comedy  |3822   |0.009251246197653228|Dumb & Dumber (1994)                  |Comedy                  |\n",
      "|Comedy  |6574   |0.007837300272247712|Monty Python and the Holy Grail (1975)|Comedy                  |\n",
      "|Comedy  |232    |0.007703480390021834|Birdcage, The (1996)                  |Comedy                  |\n",
      "|Comedy  |5660   |0.006944746906835482|Clerks (1994)                         |Comedy                  |\n",
      "|Romance |3825   |0.01405497414989799 |Pretty Woman (1990)                   |Comedy|Romance          |\n",
      "|Romance |241    |0.01246433063421548 |Four Weddings and a Funeral (1994)    |Comedy|Romance          |\n",
      "|Romance |661    |0.012381967215927712|Forrest Gump (1994)                   |Comedy|Drama|Romance|War|\n",
      "|Romance |5652   |0.011688741778672336|Clueless (1995)                       |Comedy|Romance          |\n",
      "|Romance |3823   |0.01161667378767054 |Speed (1994)                          |Action|Romance|Thriller |\n",
      "+--------+-------+--------------------+--------------------------------------+------------------------+\n",
      "\n",
      "CPU times: user 31.6 ms, sys: 19.8 ms, total: 51.4 ms\n",
      "Wall time: 2.5 s\n"
     ]
    }
   ],
   "source": [
    "%%time\n",
    "pred = model.predict([\"Bright\", \"Romance\", \"Comedy\"], k=5)\n",
    "(pred\n",
    " .join(item_features_replay, on=\"item_id\")\n",
    " .orderBy(sf.col(\"category\"), sf.col(\"relevance\").desc())\n",
    " .select(\"category\", \"item_id\", \"relevance\", \"title\", \"genres\")\n",
    ").show(truncate=False)"
   ]
  },
  {
   "cell_type": "code",
   "execution_count": null,
   "metadata": {},
   "outputs": [],
   "source": []
  }
 ],
 "metadata": {
  "kernelspec": {
   "display_name": "Python 3 (ipykernel)",
   "language": "python",
   "name": "python3"
  },
  "language_info": {
   "codemirror_mode": {
    "name": "ipython",
    "version": 3
   },
   "file_extension": ".py",
   "mimetype": "text/x-python",
   "name": "python",
   "nbconvert_exporter": "python",
   "pygments_lexer": "ipython3",
   "version": "3.9.12"
  }
 },
 "nbformat": 4,
 "nbformat_minor": 4
}
