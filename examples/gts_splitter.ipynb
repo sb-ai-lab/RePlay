{
 "cells": [
  {
   "cell_type": "code",
   "execution_count": 53,
   "id": "a4ef887b",
   "metadata": {},
   "outputs": [],
   "source": [
    "import pandas as pd\n",
    "\n",
    "from rs_datasets import MovieLens\n",
    "\n",
    "from replay.splitters import (\n",
    "    TimeSplitter,\n",
    "    LastNSplitter,\n",
    "    NewUsersSplitter\n",
    ")\n",
    "from replay.preprocessing.filters import (\n",
    "    InteractionEntriesFilter\n",
    ")"
   ]
  },
  {
   "cell_type": "code",
   "execution_count": 13,
   "id": "c54f9609",
   "metadata": {},
   "outputs": [],
   "source": [
    "ml = MovieLens(\"1m\")  \n",
    "ratings = ml.ratings      \n",
    "\n",
    "query_column = \"user_id\"\n",
    "item_column = \"item_id\""
   ]
  },
  {
   "cell_type": "code",
   "execution_count": null,
   "id": "07f77272",
   "metadata": {},
   "outputs": [],
   "source": [
    "time_splitter = TimeSplitter(\n",
    "    time_threshold=0.1,\n",
    "    query_column=query_column,\n",
    "    item_column=item_column\n",
    ")\n",
    "\n",
    "interaction_filter = InteractionEntriesFilter(\n",
    "    min_inter_per_user=1,\n",
    "    query_column=query_column,\n",
    "    item_column=item_column\n",
    ")\n",
    "\n",
    "loo_splitter = LastNSplitter(\n",
    "    N=1,\n",
    "    divide_column=query_column,\n",
    "    query_column=query_column,\n",
    "    item_column=item_column\n",
    ")"
   ]
  },
  {
   "cell_type": "code",
   "execution_count": null,
   "id": "474a77a7",
   "metadata": {},
   "outputs": [],
   "source": [
    "# create test\n",
    "train_val, test_holdout = time_splitter.split(ratings)\n",
    "\n",
    "# create validation subset\n",
    "train, val_holdout = time_splitter.split(train_val)"
   ]
  },
  {
   "cell_type": "code",
   "execution_count": 45,
   "id": "84c4f869",
   "metadata": {},
   "outputs": [],
   "source": [
    "# remove short sequences from train (>1)\n",
    "train = interaction_filter.transform(train)\n",
    "\n",
    "# remove cold items from test_holdout, val_holdout based on filtered training\n",
    "val_holdout = val_holdout[val_holdout[item_column].isin(train[item_column].unique())]\n",
    "test_holdout = test_holdout[test_holdout[item_column].isin(train[item_column].unique())]\n",
    "\n",
    "# remove cold items from train+val (optional) based on filtered training\n",
    "train_val = train_val[train_val[item_column].isin(train[item_column].unique())]"
   ]
  },
  {
   "cell_type": "code",
   "execution_count": null,
   "id": "ed32ae04",
   "metadata": {},
   "outputs": [],
   "source": [
    "# create val target and input\n",
    "val_input, val_target = loo_splitter.split(val_holdout)\n",
    "\n",
    "# combine val input\n",
    "val_input = pd.concat([train, val_input], axis=0)\n",
    "\n",
    "# remove targets with no input (filter cold users)\n",
    "val_target = val_target[val_target[query_column].isin(val_input[query_column].unique())]\n",
    "\n",
    "# filter: 5000 users in validation subset\n",
    "if val_target[query_column].nunique() > 5000:\n",
    "    new_users_splitter = NewUsersSplitter(\n",
    "        test_size=5000/val_target[query_column].nunique(),\n",
    "        query_column=query_column,\n",
    "        item_column=item_column,\n",
    "    )\n",
    "    _, val_target = new_users_splitter.split(val_target)"
   ]
  },
  {
   "cell_type": "code",
   "execution_count": 65,
   "id": "68e87687",
   "metadata": {},
   "outputs": [],
   "source": [
    "# create test target and input\n",
    "test_input, test_target = loo_splitter.split(test_holdout)\n",
    "\n",
    "# combine test input\n",
    "test_input = pd.concat([train, test_input], axis=0)\n",
    "\n",
    "# remove targets with no input (filter cold users)\n",
    "test_target = test_target[test_target[query_column].isin(test_input[query_column].unique())]\n",
    "\n",
    "# filter: 5000 users in validation subset\n",
    "if test_target[query_column].nunique() > 10000:\n",
    "    new_users_splitter = NewUsersSplitter(\n",
    "        test_size=10000/test_target[query_column].nunique(),\n",
    "        query_column=query_column,\n",
    "        item_column=item_column,\n",
    "    )\n",
    "    _, test_target = new_users_splitter.split(test_target)"
   ]
  },
  {
   "cell_type": "code",
   "execution_count": null,
   "id": "76124227",
   "metadata": {},
   "outputs": [],
   "source": []
  }
 ],
 "metadata": {
  "kernelspec": {
   "display_name": "Python 3",
   "language": "python",
   "name": "python3"
  },
  "language_info": {
   "codemirror_mode": {
    "name": "ipython",
    "version": 3
   },
   "file_extension": ".py",
   "mimetype": "text/x-python",
   "name": "python",
   "nbconvert_exporter": "python",
   "pygments_lexer": "ipython3",
   "version": "3.11.13"
  }
 },
 "nbformat": 4,
 "nbformat_minor": 5
}
